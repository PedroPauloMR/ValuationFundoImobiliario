{
 "cells": [
  {
   "cell_type": "markdown",
   "metadata": {},
   "source": [
    "# Libs"
   ]
  },
  {
   "cell_type": "code",
   "execution_count": 81,
   "metadata": {
    "ExecuteTime": {
     "end_time": "2021-05-23T00:20:50.280774Z",
     "start_time": "2021-05-23T00:20:50.265139Z"
    }
   },
   "outputs": [],
   "source": [
    "import pandas as pd\n",
    "import numpy as np\n",
    "import requests\n",
    "import urllib3\n",
    "import json\n",
    "from bs4 import BeautifulSoup as bs\n",
    "import ipywidgets as widgets\n",
    "from ipywidgets import fixed"
   ]
  },
  {
   "cell_type": "code",
   "execution_count": 100,
   "metadata": {
    "ExecuteTime": {
     "end_time": "2021-05-23T00:25:33.737535Z",
     "start_time": "2021-05-23T00:25:33.721912Z"
    }
   },
   "outputs": [],
   "source": [
    "%config IPCompleter.greedy=True\n",
    "import warnings\n",
    "warnings.filterwarnings('ignore')\n",
    "pd.set_option('display.max_columns', None)"
   ]
  },
  {
   "cell_type": "markdown",
   "metadata": {},
   "source": [
    "# Lista dos Fundos Imobiliarios"
   ]
  },
  {
   "cell_type": "code",
   "execution_count": 83,
   "metadata": {
    "ExecuteTime": {
     "end_time": "2021-05-23T00:20:51.484777Z",
     "start_time": "2021-05-23T00:20:50.381113Z"
    }
   },
   "outputs": [],
   "source": [
    "# o header abaixo serve para mascarar a requisição semelhante a um web browser\n",
    "header = {\"User-Agent\": \"Chrome/84.0.4147.89\",\"X-Requested-With\": \"XMLHttpRequest\"}\n",
    "\n",
    "# URL com todos os FIIs listados\n",
    "url = 'https://fundamentus.com.br/fii_resultado.php'\n",
    "\n",
    "# Requests via HTTP\n",
    "r = requests.get(url, headers=header)\n",
    "\n",
    "# Leitura do HTML entregue\n",
    "fii = pd.read_html(r.text,decimal=',',thousands='.')"
   ]
  },
  {
   "cell_type": "code",
   "execution_count": 84,
   "metadata": {
    "ExecuteTime": {
     "end_time": "2021-05-23T00:20:51.515625Z",
     "start_time": "2021-05-23T00:20:51.484777Z"
    }
   },
   "outputs": [
    {
     "data": {
      "text/html": [
       "<div>\n",
       "<style scoped>\n",
       "    .dataframe tbody tr th:only-of-type {\n",
       "        vertical-align: middle;\n",
       "    }\n",
       "\n",
       "    .dataframe tbody tr th {\n",
       "        vertical-align: top;\n",
       "    }\n",
       "\n",
       "    .dataframe thead th {\n",
       "        text-align: right;\n",
       "    }\n",
       "</style>\n",
       "<table border=\"1\" class=\"dataframe\">\n",
       "  <thead>\n",
       "    <tr style=\"text-align: right;\">\n",
       "      <th></th>\n",
       "      <th>Papel</th>\n",
       "      <th>Segmento</th>\n",
       "      <th>Cotação</th>\n",
       "      <th>FFO Yield</th>\n",
       "      <th>Dividend Yield</th>\n",
       "      <th>P/VP</th>\n",
       "      <th>Valor de Mercado</th>\n",
       "      <th>Liquidez</th>\n",
       "      <th>Qtd de imóveis</th>\n",
       "      <th>Preço do m2</th>\n",
       "      <th>Aluguel por m2</th>\n",
       "      <th>Cap Rate</th>\n",
       "      <th>Vacância Média</th>\n",
       "      <th>Dividend yield 2</th>\n",
       "      <th>Dividendo/cota</th>\n",
       "    </tr>\n",
       "  </thead>\n",
       "  <tbody>\n",
       "    <tr>\n",
       "      <th>0</th>\n",
       "      <td>ABCP11</td>\n",
       "      <td>Shoppings</td>\n",
       "      <td>69.32</td>\n",
       "      <td>3,50%</td>\n",
       "      <td>3,44%</td>\n",
       "      <td>0.78</td>\n",
       "      <td>845970000</td>\n",
       "      <td>198748</td>\n",
       "      <td>1</td>\n",
       "      <td>11904.40</td>\n",
       "      <td>603.35</td>\n",
       "      <td>5,07%</td>\n",
       "      <td>12,00%</td>\n",
       "      <td>3.44</td>\n",
       "      <td>2.384608</td>\n",
       "    </tr>\n",
       "    <tr>\n",
       "      <th>1</th>\n",
       "      <td>AEFI11</td>\n",
       "      <td>Outros</td>\n",
       "      <td>174.90</td>\n",
       "      <td>6,20%</td>\n",
       "      <td>0,00%</td>\n",
       "      <td>1.16</td>\n",
       "      <td>353582000</td>\n",
       "      <td>0</td>\n",
       "      <td>5</td>\n",
       "      <td>4351.27</td>\n",
       "      <td>285.52</td>\n",
       "      <td>6,56%</td>\n",
       "      <td>0,00%</td>\n",
       "      <td>0.00</td>\n",
       "      <td>0.000000</td>\n",
       "    </tr>\n",
       "    <tr>\n",
       "      <th>2</th>\n",
       "      <td>AFCR11</td>\n",
       "      <td>Híbrido</td>\n",
       "      <td>111.32</td>\n",
       "      <td>6,01%</td>\n",
       "      <td>5,38%</td>\n",
       "      <td>1.07</td>\n",
       "      <td>132167000</td>\n",
       "      <td>409510</td>\n",
       "      <td>0</td>\n",
       "      <td>0.00</td>\n",
       "      <td>0.00</td>\n",
       "      <td>0,00%</td>\n",
       "      <td>0,00%</td>\n",
       "      <td>5.38</td>\n",
       "      <td>5.989016</td>\n",
       "    </tr>\n",
       "    <tr>\n",
       "      <th>3</th>\n",
       "      <td>AFHI11</td>\n",
       "      <td>Títulos e Val. Mob.</td>\n",
       "      <td>92.00</td>\n",
       "      <td>0,03%</td>\n",
       "      <td>0,00%</td>\n",
       "      <td>0.96</td>\n",
       "      <td>164466000</td>\n",
       "      <td>362124</td>\n",
       "      <td>0</td>\n",
       "      <td>0.00</td>\n",
       "      <td>0.00</td>\n",
       "      <td>0,00%</td>\n",
       "      <td>0,00%</td>\n",
       "      <td>0.00</td>\n",
       "      <td>0.000000</td>\n",
       "    </tr>\n",
       "    <tr>\n",
       "      <th>4</th>\n",
       "      <td>AFOF11</td>\n",
       "      <td>Títulos e Val. Mob.</td>\n",
       "      <td>224.00</td>\n",
       "      <td>1,79%</td>\n",
       "      <td>0,00%</td>\n",
       "      <td>2.08</td>\n",
       "      <td>82235800</td>\n",
       "      <td>111274</td>\n",
       "      <td>0</td>\n",
       "      <td>0.00</td>\n",
       "      <td>0.00</td>\n",
       "      <td>0,00%</td>\n",
       "      <td>0,00%</td>\n",
       "      <td>0.00</td>\n",
       "      <td>0.000000</td>\n",
       "    </tr>\n",
       "    <tr>\n",
       "      <th>...</th>\n",
       "      <td>...</td>\n",
       "      <td>...</td>\n",
       "      <td>...</td>\n",
       "      <td>...</td>\n",
       "      <td>...</td>\n",
       "      <td>...</td>\n",
       "      <td>...</td>\n",
       "      <td>...</td>\n",
       "      <td>...</td>\n",
       "      <td>...</td>\n",
       "      <td>...</td>\n",
       "      <td>...</td>\n",
       "      <td>...</td>\n",
       "      <td>...</td>\n",
       "      <td>...</td>\n",
       "    </tr>\n",
       "    <tr>\n",
       "      <th>271</th>\n",
       "      <td>XPML11</td>\n",
       "      <td>Shoppings</td>\n",
       "      <td>104.10</td>\n",
       "      <td>1,76%</td>\n",
       "      <td>2,56%</td>\n",
       "      <td>0.95</td>\n",
       "      <td>1895420000</td>\n",
       "      <td>3990670</td>\n",
       "      <td>10</td>\n",
       "      <td>5370.14</td>\n",
       "      <td>169.91</td>\n",
       "      <td>3,16%</td>\n",
       "      <td>5,43%</td>\n",
       "      <td>2.56</td>\n",
       "      <td>2.664960</td>\n",
       "    </tr>\n",
       "    <tr>\n",
       "      <th>272</th>\n",
       "      <td>XPPR11</td>\n",
       "      <td>Outros</td>\n",
       "      <td>63.80</td>\n",
       "      <td>10,92%</td>\n",
       "      <td>9,32%</td>\n",
       "      <td>0.73</td>\n",
       "      <td>466772000</td>\n",
       "      <td>1942160</td>\n",
       "      <td>5</td>\n",
       "      <td>7402.94</td>\n",
       "      <td>785.12</td>\n",
       "      <td>10,61%</td>\n",
       "      <td>46,51%</td>\n",
       "      <td>9.32</td>\n",
       "      <td>5.946160</td>\n",
       "    </tr>\n",
       "    <tr>\n",
       "      <th>273</th>\n",
       "      <td>XPSF11</td>\n",
       "      <td>Títulos e Val. Mob.</td>\n",
       "      <td>97.35</td>\n",
       "      <td>1,66%</td>\n",
       "      <td>6,45%</td>\n",
       "      <td>0.99</td>\n",
       "      <td>421546000</td>\n",
       "      <td>1628830</td>\n",
       "      <td>0</td>\n",
       "      <td>0.00</td>\n",
       "      <td>0.00</td>\n",
       "      <td>0,00%</td>\n",
       "      <td>0,00%</td>\n",
       "      <td>6.45</td>\n",
       "      <td>6.279075</td>\n",
       "    </tr>\n",
       "    <tr>\n",
       "      <th>274</th>\n",
       "      <td>XTED11</td>\n",
       "      <td>Lajes Corporativas</td>\n",
       "      <td>6.97</td>\n",
       "      <td>-8,96%</td>\n",
       "      <td>0,00%</td>\n",
       "      <td>0.49</td>\n",
       "      <td>12494100</td>\n",
       "      <td>10529</td>\n",
       "      <td>1</td>\n",
       "      <td>1662.03</td>\n",
       "      <td>0.00</td>\n",
       "      <td>0,00%</td>\n",
       "      <td>0,00%</td>\n",
       "      <td>0.00</td>\n",
       "      <td>0.000000</td>\n",
       "    </tr>\n",
       "    <tr>\n",
       "      <th>275</th>\n",
       "      <td>YCHY11</td>\n",
       "      <td>Híbrido</td>\n",
       "      <td>1000.00</td>\n",
       "      <td>0,24%</td>\n",
       "      <td>2,91%</td>\n",
       "      <td>9.83</td>\n",
       "      <td>1597570000</td>\n",
       "      <td>0</td>\n",
       "      <td>4</td>\n",
       "      <td>2948.83</td>\n",
       "      <td>43.20</td>\n",
       "      <td>1,47%</td>\n",
       "      <td>0,00%</td>\n",
       "      <td>2.91</td>\n",
       "      <td>29.100000</td>\n",
       "    </tr>\n",
       "  </tbody>\n",
       "</table>\n",
       "<p>276 rows × 15 columns</p>\n",
       "</div>"
      ],
      "text/plain": [
       "      Papel             Segmento  Cotação FFO Yield Dividend Yield  P/VP  \\\n",
       "0    ABCP11            Shoppings    69.32     3,50%          3,44%  0.78   \n",
       "1    AEFI11               Outros   174.90     6,20%          0,00%  1.16   \n",
       "2    AFCR11              Híbrido   111.32     6,01%          5,38%  1.07   \n",
       "3    AFHI11  Títulos e Val. Mob.    92.00     0,03%          0,00%  0.96   \n",
       "4    AFOF11  Títulos e Val. Mob.   224.00     1,79%          0,00%  2.08   \n",
       "..      ...                  ...      ...       ...            ...   ...   \n",
       "271  XPML11            Shoppings   104.10     1,76%          2,56%  0.95   \n",
       "272  XPPR11               Outros    63.80    10,92%          9,32%  0.73   \n",
       "273  XPSF11  Títulos e Val. Mob.    97.35     1,66%          6,45%  0.99   \n",
       "274  XTED11   Lajes Corporativas     6.97    -8,96%          0,00%  0.49   \n",
       "275  YCHY11              Híbrido  1000.00     0,24%          2,91%  9.83   \n",
       "\n",
       "     Valor de Mercado  Liquidez  Qtd de imóveis  Preço do m2  Aluguel por m2  \\\n",
       "0           845970000    198748               1     11904.40          603.35   \n",
       "1           353582000         0               5      4351.27          285.52   \n",
       "2           132167000    409510               0         0.00            0.00   \n",
       "3           164466000    362124               0         0.00            0.00   \n",
       "4            82235800    111274               0         0.00            0.00   \n",
       "..                ...       ...             ...          ...             ...   \n",
       "271        1895420000   3990670              10      5370.14          169.91   \n",
       "272         466772000   1942160               5      7402.94          785.12   \n",
       "273         421546000   1628830               0         0.00            0.00   \n",
       "274          12494100     10529               1      1662.03            0.00   \n",
       "275        1597570000         0               4      2948.83           43.20   \n",
       "\n",
       "    Cap Rate Vacância Média  Dividend yield 2  Dividendo/cota  \n",
       "0      5,07%         12,00%              3.44        2.384608  \n",
       "1      6,56%          0,00%              0.00        0.000000  \n",
       "2      0,00%          0,00%              5.38        5.989016  \n",
       "3      0,00%          0,00%              0.00        0.000000  \n",
       "4      0,00%          0,00%              0.00        0.000000  \n",
       "..       ...            ...               ...             ...  \n",
       "271    3,16%          5,43%              2.56        2.664960  \n",
       "272   10,61%         46,51%              9.32        5.946160  \n",
       "273    0,00%          0,00%              6.45        6.279075  \n",
       "274    0,00%          0,00%              0.00        0.000000  \n",
       "275    1,47%          0,00%              2.91       29.100000  \n",
       "\n",
       "[276 rows x 15 columns]"
      ]
     },
     "execution_count": 84,
     "metadata": {},
     "output_type": "execute_result"
    }
   ],
   "source": [
    "# o índice [0] contem toda a tabela dos fundos\n",
    "fundos = fii[0]\n",
    "\n",
    "# Dividend Yield vem como string. É necessário remover '%' e trocar ',' por '.'\n",
    "fundos['Dividend yield 2']= fundos['Dividend Yield'].str.replace('%','').str.replace(',','.').astype(float)\n",
    "fundos['Dividendo/cota'] = fundos['Cotação']*fundos['Dividend yield 2']/100\n",
    "\n",
    "fundos"
   ]
  },
  {
   "cell_type": "markdown",
   "metadata": {},
   "source": [
    "# Obtendo o IPCA"
   ]
  },
  {
   "cell_type": "code",
   "execution_count": 85,
   "metadata": {
    "ExecuteTime": {
     "end_time": "2021-05-23T00:20:52.465296Z",
     "start_time": "2021-05-23T00:20:51.515625Z"
    }
   },
   "outputs": [
    {
     "data": {
      "text/plain": [
       "6.76"
      ]
     },
     "execution_count": 85,
     "metadata": {},
     "output_type": "execute_result"
    }
   ],
   "source": [
    "# OBTER IPCA acumulado 12 MESES\n",
    "\n",
    "r = requests.get('https://www.melhorcambio.com/ipca',headers = header,verify=False)\n",
    "\n",
    "# web scrapying para \"quebrar o conteúdo do html\"\n",
    "soup = bs(r.content,'html.parser')\n",
    "\n",
    "ipca = soup.find_all('input',{'id':'inp_calc_3'})\n",
    "\n",
    "ipca = float(ipca[0]['value'].replace(',','.'))\n",
    "ipca"
   ]
  },
  {
   "cell_type": "markdown",
   "metadata": {},
   "source": [
    "# Obtendo o SPREAD do IPCA\n",
    "\n",
    "- o \"*spread*\" é a diferença que o título mais longo do Tesouro está pagando de diferencial em relação ao IPCA\n",
    "- Exemplo: IPCA+2050 = IPCA + 5% -> os 5% é o spread do titulo"
   ]
  },
  {
   "cell_type": "code",
   "execution_count": 86,
   "metadata": {
    "ExecuteTime": {
     "end_time": "2021-05-23T00:20:52.487496Z",
     "start_time": "2021-05-23T00:20:52.465296Z"
    }
   },
   "outputs": [],
   "source": [
    "import ssl\n",
    "ssl._create_default_https_context = ssl._create_unverified_context"
   ]
  },
  {
   "cell_type": "code",
   "execution_count": 87,
   "metadata": {
    "ExecuteTime": {
     "end_time": "2021-05-23T00:20:52.603601Z",
     "start_time": "2021-05-23T00:20:52.487496Z"
    }
   },
   "outputs": [],
   "source": [
    "# função que faz o crawling dos dados do site do Banco Central\n",
    "\n",
    "def busca_titulos_tesouro_direto():\n",
    "    url = 'https://www.tesourotransparente.gov.br/ckan/dataset/df56aa42-484a-4a59-8184-7676580c81e3/resource/796d2059-14e9-44e3-80c9-2d9e30b405c1/download/PrecoTaxaTesouroDireto.csv'\n",
    "    df  = pd.read_csv(url, sep=';', decimal=',')\n",
    "    df['Data Vencimento'] = pd.to_datetime(df['Data Vencimento'], dayfirst=True)\n",
    "    df['Data Base']       = pd.to_datetime(df['Data Base'], dayfirst=True)\n",
    "    return df"
   ]
  },
  {
   "cell_type": "code",
   "execution_count": 88,
   "metadata": {
    "ExecuteTime": {
     "end_time": "2021-05-23T00:20:54.891509Z",
     "start_time": "2021-05-23T00:20:52.603601Z"
    }
   },
   "outputs": [],
   "source": [
    "# Transformar o título em dataframe\n",
    "\n",
    "titulos = busca_titulos_tesouro_direto()\n",
    "titulos.sort_index(inplace=True)"
   ]
  },
  {
   "cell_type": "code",
   "execution_count": 89,
   "metadata": {
    "ExecuteTime": {
     "end_time": "2021-05-23T00:20:54.927716Z",
     "start_time": "2021-05-23T00:20:54.891509Z"
    }
   },
   "outputs": [],
   "source": [
    "# Obter o IPCA+ longo\n",
    "\n",
    "vencimento = titulos.loc[(titulos['Tipo Titulo'] == 'Tesouro IPCA+'),'Data Vencimento'].max()\n",
    "ipca_longo = titulos.loc[(titulos['Tipo Titulo'] == 'Tesouro IPCA+') & (titulos['Data Vencimento'] == vencimento)]"
   ]
  },
  {
   "cell_type": "code",
   "execution_count": 91,
   "metadata": {
    "ExecuteTime": {
     "end_time": "2021-05-23T00:20:55.105659Z",
     "start_time": "2021-05-23T00:20:55.027558Z"
    }
   },
   "outputs": [
    {
     "data": {
      "text/plain": [
       "4.21"
      ]
     },
     "execution_count": 91,
     "metadata": {},
     "output_type": "execute_result"
    }
   ],
   "source": [
    "# Obter o spread que o título mais longo está pagando \n",
    "\n",
    "ipca_longo.sort_values('Data Base',ascending = False, inplace = True)\n",
    "spread_ntnb = ipca_longo.iloc[0,3]\n",
    "spread_ntnb"
   ]
  },
  {
   "cell_type": "markdown",
   "metadata": {
    "ExecuteTime": {
     "end_time": "2021-05-22T23:52:29.075670Z",
     "start_time": "2021-05-22T23:52:29.060157Z"
    }
   },
   "source": [
    "# Modelo de Gordon"
   ]
  },
  {
   "cell_type": "markdown",
   "metadata": {
    "ExecuteTime": {
     "end_time": "2021-04-10T22:56:02.749418Z",
     "start_time": "2021-04-10T22:56:02.696009Z"
    }
   },
   "source": [
    "Modelo de Gordon = $( Dividendo ) / Wacc $\n",
    "\n",
    "$ Wacc = Spread.NTNB + IPCA + Spread.Mercado$\n",
    "\n",
    "- **Tijolo** -> `IPCA = 0` pois a inflação já é reposta pelo patrimônio e reajuste dos contratos\n",
    "- **CRI** -> `IPCA <> 0` (retorno é nominal)"
   ]
  },
  {
   "cell_type": "markdown",
   "metadata": {},
   "source": [
    "- `Spread NTN-B`: spread do título IPCA mais longo\n",
    "- `IPCA`: indice acumulado dos ultimos 12 meses\n",
    "- `Spread Mercado`: quanto o mercado está precificando acima do tesouro mais longo (geralmente fica em torno de 2% acima)\n",
    "    \n",
    "- Iremos usar o `WIDGETS` do Python para simular o `SPREAD_MERCADO`"
   ]
  },
  {
   "cell_type": "code",
   "execution_count": 92,
   "metadata": {
    "ExecuteTime": {
     "end_time": "2021-05-23T00:20:55.190656Z",
     "start_time": "2021-05-23T00:20:55.105659Z"
    }
   },
   "outputs": [],
   "source": [
    "# Criar 2 colunas com os dados já obtidos\n",
    "\n",
    "fundos['NTN-B'] = spread_ntnb\n",
    "fundos['IPCA'] = ipca"
   ]
  },
  {
   "cell_type": "code",
   "execution_count": 112,
   "metadata": {
    "ExecuteTime": {
     "end_time": "2021-05-23T00:32:57.398352Z",
     "start_time": "2021-05-23T00:32:57.367070Z"
    }
   },
   "outputs": [
    {
     "data": {
      "text/html": [
       "<div>\n",
       "<style scoped>\n",
       "    .dataframe tbody tr th:only-of-type {\n",
       "        vertical-align: middle;\n",
       "    }\n",
       "\n",
       "    .dataframe tbody tr th {\n",
       "        vertical-align: top;\n",
       "    }\n",
       "\n",
       "    .dataframe thead th {\n",
       "        text-align: right;\n",
       "    }\n",
       "</style>\n",
       "<table border=\"1\" class=\"dataframe\">\n",
       "  <thead>\n",
       "    <tr style=\"text-align: right;\">\n",
       "      <th></th>\n",
       "      <th>Papel</th>\n",
       "      <th>Segmento</th>\n",
       "      <th>Cotação</th>\n",
       "      <th>FFO Yield</th>\n",
       "      <th>Dividend Yield</th>\n",
       "      <th>P/VP</th>\n",
       "      <th>Valor de Mercado</th>\n",
       "      <th>Liquidez</th>\n",
       "      <th>Qtd de imóveis</th>\n",
       "      <th>Preço do m2</th>\n",
       "      <th>Aluguel por m2</th>\n",
       "      <th>Cap Rate</th>\n",
       "      <th>Vacância Média</th>\n",
       "      <th>Dividend yield 2</th>\n",
       "      <th>Dividendo/cota</th>\n",
       "      <th>NTN-B</th>\n",
       "      <th>IPCA</th>\n",
       "      <th>SPREAD</th>\n",
       "      <th>WACC</th>\n",
       "      <th>ValorJusto</th>\n",
       "      <th>Sinal</th>\n",
       "    </tr>\n",
       "  </thead>\n",
       "  <tbody>\n",
       "    <tr>\n",
       "      <th>4</th>\n",
       "      <td>AFOF11</td>\n",
       "      <td>Títulos e Val. Mob.</td>\n",
       "      <td>224.00</td>\n",
       "      <td>1,79%</td>\n",
       "      <td>0,00%</td>\n",
       "      <td>2.08</td>\n",
       "      <td>82235800</td>\n",
       "      <td>111274</td>\n",
       "      <td>0</td>\n",
       "      <td>0.00</td>\n",
       "      <td>0.00</td>\n",
       "      <td>0,00%</td>\n",
       "      <td>0,00%</td>\n",
       "      <td>0.00</td>\n",
       "      <td>0.000000</td>\n",
       "      <td>4.21</td>\n",
       "      <td>6.76</td>\n",
       "      <td>2.0</td>\n",
       "      <td>0.1297</td>\n",
       "      <td>0.00</td>\n",
       "      <td>Acima valor justo</td>\n",
       "    </tr>\n",
       "    <tr>\n",
       "      <th>77</th>\n",
       "      <td>FMOF11</td>\n",
       "      <td>Lajes Corporativas</td>\n",
       "      <td>70.01</td>\n",
       "      <td>1,45%</td>\n",
       "      <td>1,53%</td>\n",
       "      <td>0.53</td>\n",
       "      <td>35565600</td>\n",
       "      <td>3040</td>\n",
       "      <td>2</td>\n",
       "      <td>2106.94</td>\n",
       "      <td>174.95</td>\n",
       "      <td>8,30%</td>\n",
       "      <td>39,48%</td>\n",
       "      <td>1.53</td>\n",
       "      <td>1.071153</td>\n",
       "      <td>4.21</td>\n",
       "      <td>0.00</td>\n",
       "      <td>2.0</td>\n",
       "      <td>0.0621</td>\n",
       "      <td>17.25</td>\n",
       "      <td>Acima valor justo</td>\n",
       "    </tr>\n",
       "    <tr>\n",
       "      <th>98</th>\n",
       "      <td>HFOF11</td>\n",
       "      <td>Títulos e Val. Mob.</td>\n",
       "      <td>99.00</td>\n",
       "      <td>6,25%</td>\n",
       "      <td>5,78%</td>\n",
       "      <td>1.03</td>\n",
       "      <td>2133150000</td>\n",
       "      <td>4718620</td>\n",
       "      <td>0</td>\n",
       "      <td>0.00</td>\n",
       "      <td>0.00</td>\n",
       "      <td>0,00%</td>\n",
       "      <td>0,00%</td>\n",
       "      <td>5.78</td>\n",
       "      <td>5.722200</td>\n",
       "      <td>4.21</td>\n",
       "      <td>6.76</td>\n",
       "      <td>2.0</td>\n",
       "      <td>0.1297</td>\n",
       "      <td>44.12</td>\n",
       "      <td>Acima valor justo</td>\n",
       "    </tr>\n",
       "    <tr>\n",
       "      <th>130</th>\n",
       "      <td>KFOF11</td>\n",
       "      <td>Títulos e Val. Mob.</td>\n",
       "      <td>91.80</td>\n",
       "      <td>3,89%</td>\n",
       "      <td>5,01%</td>\n",
       "      <td>0.87</td>\n",
       "      <td>416158000</td>\n",
       "      <td>534500</td>\n",
       "      <td>0</td>\n",
       "      <td>0.00</td>\n",
       "      <td>0.00</td>\n",
       "      <td>0,00%</td>\n",
       "      <td>0,00%</td>\n",
       "      <td>5.01</td>\n",
       "      <td>4.599180</td>\n",
       "      <td>4.21</td>\n",
       "      <td>6.76</td>\n",
       "      <td>2.0</td>\n",
       "      <td>0.1297</td>\n",
       "      <td>35.46</td>\n",
       "      <td>Acima valor justo</td>\n",
       "    </tr>\n",
       "    <tr>\n",
       "      <th>143</th>\n",
       "      <td>LOFT11B</td>\n",
       "      <td>Residencial</td>\n",
       "      <td>29.90</td>\n",
       "      <td>-30,48%</td>\n",
       "      <td>46,49%</td>\n",
       "      <td>0.34</td>\n",
       "      <td>68980300</td>\n",
       "      <td>476</td>\n",
       "      <td>154</td>\n",
       "      <td>3784.48</td>\n",
       "      <td>26.51</td>\n",
       "      <td>0,70%</td>\n",
       "      <td>0,00%</td>\n",
       "      <td>46.49</td>\n",
       "      <td>13.900510</td>\n",
       "      <td>4.21</td>\n",
       "      <td>0.00</td>\n",
       "      <td>2.0</td>\n",
       "      <td>0.0621</td>\n",
       "      <td>223.84</td>\n",
       "      <td>Abaixo valor justo</td>\n",
       "    </tr>\n",
       "    <tr>\n",
       "      <th>215</th>\n",
       "      <td>RFOF11</td>\n",
       "      <td>Títulos e Val. Mob.</td>\n",
       "      <td>82.80</td>\n",
       "      <td>4,90%</td>\n",
       "      <td>5,02%</td>\n",
       "      <td>0.88</td>\n",
       "      <td>89272000</td>\n",
       "      <td>291128</td>\n",
       "      <td>0</td>\n",
       "      <td>0.00</td>\n",
       "      <td>0.00</td>\n",
       "      <td>0,00%</td>\n",
       "      <td>0,00%</td>\n",
       "      <td>5.02</td>\n",
       "      <td>4.156560</td>\n",
       "      <td>4.21</td>\n",
       "      <td>6.76</td>\n",
       "      <td>2.0</td>\n",
       "      <td>0.1297</td>\n",
       "      <td>32.05</td>\n",
       "      <td>Acima valor justo</td>\n",
       "    </tr>\n",
       "    <tr>\n",
       "      <th>235</th>\n",
       "      <td>TBOF11</td>\n",
       "      <td>Lajes Corporativas</td>\n",
       "      <td>101.50</td>\n",
       "      <td>-0,08%</td>\n",
       "      <td>54,42%</td>\n",
       "      <td>656.11</td>\n",
       "      <td>1020080000</td>\n",
       "      <td>0</td>\n",
       "      <td>0</td>\n",
       "      <td>0.00</td>\n",
       "      <td>0.00</td>\n",
       "      <td>0,00%</td>\n",
       "      <td>0,00%</td>\n",
       "      <td>54.42</td>\n",
       "      <td>55.236300</td>\n",
       "      <td>4.21</td>\n",
       "      <td>0.00</td>\n",
       "      <td>2.0</td>\n",
       "      <td>0.0621</td>\n",
       "      <td>889.47</td>\n",
       "      <td>Abaixo valor justo</td>\n",
       "    </tr>\n",
       "  </tbody>\n",
       "</table>\n",
       "</div>"
      ],
      "text/plain": [
       "       Papel             Segmento  Cotação FFO Yield Dividend Yield    P/VP  \\\n",
       "4     AFOF11  Títulos e Val. Mob.   224.00     1,79%          0,00%    2.08   \n",
       "77    FMOF11   Lajes Corporativas    70.01     1,45%          1,53%    0.53   \n",
       "98    HFOF11  Títulos e Val. Mob.    99.00     6,25%          5,78%    1.03   \n",
       "130   KFOF11  Títulos e Val. Mob.    91.80     3,89%          5,01%    0.87   \n",
       "143  LOFT11B          Residencial    29.90   -30,48%         46,49%    0.34   \n",
       "215   RFOF11  Títulos e Val. Mob.    82.80     4,90%          5,02%    0.88   \n",
       "235   TBOF11   Lajes Corporativas   101.50    -0,08%         54,42%  656.11   \n",
       "\n",
       "     Valor de Mercado  Liquidez  Qtd de imóveis  Preço do m2  Aluguel por m2  \\\n",
       "4            82235800    111274               0         0.00            0.00   \n",
       "77           35565600      3040               2      2106.94          174.95   \n",
       "98         2133150000   4718620               0         0.00            0.00   \n",
       "130         416158000    534500               0         0.00            0.00   \n",
       "143          68980300       476             154      3784.48           26.51   \n",
       "215          89272000    291128               0         0.00            0.00   \n",
       "235        1020080000         0               0         0.00            0.00   \n",
       "\n",
       "    Cap Rate Vacância Média  Dividend yield 2  Dividendo/cota  NTN-B  IPCA  \\\n",
       "4      0,00%          0,00%              0.00        0.000000   4.21  6.76   \n",
       "77     8,30%         39,48%              1.53        1.071153   4.21  0.00   \n",
       "98     0,00%          0,00%              5.78        5.722200   4.21  6.76   \n",
       "130    0,00%          0,00%              5.01        4.599180   4.21  6.76   \n",
       "143    0,70%          0,00%             46.49       13.900510   4.21  0.00   \n",
       "215    0,00%          0,00%              5.02        4.156560   4.21  6.76   \n",
       "235    0,00%          0,00%             54.42       55.236300   4.21  0.00   \n",
       "\n",
       "     SPREAD    WACC  ValorJusto               Sinal  \n",
       "4       2.0  0.1297        0.00   Acima valor justo  \n",
       "77      2.0  0.0621       17.25   Acima valor justo  \n",
       "98      2.0  0.1297       44.12   Acima valor justo  \n",
       "130     2.0  0.1297       35.46   Acima valor justo  \n",
       "143     2.0  0.0621      223.84  Abaixo valor justo  \n",
       "215     2.0  0.1297       32.05   Acima valor justo  \n",
       "235     2.0  0.0621      889.47  Abaixo valor justo  "
      ]
     },
     "execution_count": 112,
     "metadata": {},
     "output_type": "execute_result"
    }
   ],
   "source": [
    "fundos.loc[fundos['Papel'].str.contains('OF','FF')]"
   ]
  },
  {
   "cell_type": "code",
   "execution_count": 113,
   "metadata": {
    "ExecuteTime": {
     "end_time": "2021-05-23T00:34:09.374710Z",
     "start_time": "2021-05-23T00:34:09.352536Z"
    }
   },
   "outputs": [],
   "source": [
    "def modelo_gordon(fiis,spread_mercado):\n",
    "    # filtro para zerar o IPCA de todos os FIIs que não sao de CRI\n",
    "    fiis.loc[~(fiis['Segmento']=='Títulos e Val. Mob.')|\n",
    "            (fiis['Papel'].str.contains('OF','FF')) ,'IPCA'] = 0\n",
    "    fiis['SPREAD'] = spread_mercado\n",
    "    fiis['WACC'] = (fiis['NTN-B'] + fiis['IPCA'] + fiis['SPREAD'])/100\n",
    "    fiis['ValorJusto'] = round(fiis['Dividendo/cota'] / fiis['WACC'],2)\n",
    "    fiis['Sinal'] = 'Acima valor justo'\n",
    "    fiis.loc[(fiis['ValorJusto']-fiis['Cotação']) >= 0 ,'Sinal'] = 'Abaixo valor justo'\n",
    "    a = fiis[['Papel','Cotação','ValorJusto','Sinal']]\n",
    "    a = a.loc[a['Sinal'] == 'Abaixo valor justo']\n",
    "    print(a)"
   ]
  },
  {
   "cell_type": "code",
   "execution_count": 114,
   "metadata": {
    "ExecuteTime": {
     "end_time": "2021-05-23T00:34:10.053162Z",
     "start_time": "2021-05-23T00:34:10.006348Z"
    }
   },
   "outputs": [
    {
     "data": {
      "application/vnd.jupyter.widget-view+json": {
       "model_id": "528b8c68be6e40e7855aa13e34a600d5",
       "version_major": 2,
       "version_minor": 0
      },
      "text/plain": [
       "interactive(children=(FloatSlider(value=2.0, continuous_update=False, description='SpreadMercado:', max=2.5, r…"
      ]
     },
     "metadata": {},
     "output_type": "display_data"
    }
   ],
   "source": [
    "# Slider do spread mercado\n",
    "valor_spread = widgets.FloatSlider(value=2,min=0,max=2.5,step=0.1,description='SpreadMercado:',\n",
    "    disabled=False,continuous_update=False,orientation='horizontal',readout=True,readout_format='.1f')\n",
    "        \n",
    "# WIDGET CREATED      \n",
    "widgets.interactive(modelo_gordon,fiis = fixed(fundos),spread_mercado = valor_spread)"
   ]
  },
  {
   "cell_type": "code",
   "execution_count": null,
   "metadata": {},
   "outputs": [],
   "source": []
  },
  {
   "cell_type": "code",
   "execution_count": null,
   "metadata": {},
   "outputs": [],
   "source": []
  },
  {
   "cell_type": "code",
   "execution_count": null,
   "metadata": {},
   "outputs": [],
   "source": []
  }
 ],
 "metadata": {
  "kernelspec": {
   "display_name": "Python 3",
   "language": "python",
   "name": "python3"
  },
  "language_info": {
   "codemirror_mode": {
    "name": "ipython",
    "version": 3
   },
   "file_extension": ".py",
   "mimetype": "text/x-python",
   "name": "python",
   "nbconvert_exporter": "python",
   "pygments_lexer": "ipython3",
   "version": "3.8.5"
  },
  "varInspector": {
   "cols": {
    "lenName": 16,
    "lenType": 16,
    "lenVar": 40
   },
   "kernels_config": {
    "python": {
     "delete_cmd_postfix": "",
     "delete_cmd_prefix": "del ",
     "library": "var_list.py",
     "varRefreshCmd": "print(var_dic_list())"
    },
    "r": {
     "delete_cmd_postfix": ") ",
     "delete_cmd_prefix": "rm(",
     "library": "var_list.r",
     "varRefreshCmd": "cat(var_dic_list()) "
    }
   },
   "types_to_exclude": [
    "module",
    "function",
    "builtin_function_or_method",
    "instance",
    "_Feature"
   ],
   "window_display": false
  }
 },
 "nbformat": 4,
 "nbformat_minor": 4
}
