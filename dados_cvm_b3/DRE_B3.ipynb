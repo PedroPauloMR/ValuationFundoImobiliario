{
 "cells": [
  {
   "cell_type": "code",
   "execution_count": 1,
   "metadata": {
    "ExecuteTime": {
     "end_time": "2021-06-22T15:08:14.533615Z",
     "start_time": "2021-06-22T15:07:59.629921Z"
    }
   },
   "outputs": [],
   "source": [
    "import pandas as pd\n",
    "import numpy as np\n",
    "import requests\n",
    "import json\n",
    "import wget\n",
    "\n",
    "from zipfile import ZipFile\n",
    "\n",
    "from ipywidgets import widgets\n",
    "from ipywidgets import interact\n"
   ]
  },
  {
   "cell_type": "code",
   "execution_count": 4,
   "metadata": {
    "ExecuteTime": {
     "end_time": "2021-06-22T15:16:58.028218Z",
     "start_time": "2021-06-22T15:16:58.008792Z"
    }
   },
   "outputs": [],
   "source": [
    "path = 'C:/Users/pedro/Desktop/Análise Técnica e Fundamentalista/'\n",
    "\n",
    "itr = 'http://dados.cvm.gov.br/dados/CIA_ABERTA/DOC/ITR/DADOS/'\n",
    "\n",
    "dfp = 'http://dados.cvm.gov.br/dados/CIA_ABERTA/DOC/DFP/DADOS/'"
   ]
  },
  {
   "cell_type": "code",
   "execution_count": 5,
   "metadata": {
    "ExecuteTime": {
     "end_time": "2021-06-22T15:16:58.469593Z",
     "start_time": "2021-06-22T15:16:58.446177Z"
    }
   },
   "outputs": [
    {
     "data": {
      "text/plain": [
       "['dfp_cia_aberta_2011.zip',\n",
       " 'dfp_cia_aberta_2012.zip',\n",
       " 'dfp_cia_aberta_2013.zip',\n",
       " 'dfp_cia_aberta_2014.zip',\n",
       " 'dfp_cia_aberta_2015.zip',\n",
       " 'dfp_cia_aberta_2016.zip',\n",
       " 'dfp_cia_aberta_2017.zip',\n",
       " 'dfp_cia_aberta_2018.zip',\n",
       " 'dfp_cia_aberta_2019.zip',\n",
       " 'dfp_cia_aberta_2020.zip',\n",
       " 'dfp_cia_aberta_2021.zip']"
      ]
     },
     "execution_count": 5,
     "metadata": {},
     "output_type": "execute_result"
    }
   ],
   "source": [
    "arquivos_itr_zip = []\n",
    "for ano in range(2011,2022):\n",
    "    arquivos_itr_zip.append(f'itr_cia_aberta_{ano}.zip')\n",
    "    \n",
    "arquivos_itr_zip\n",
    "\n",
    "\n",
    "arquivos_dfp_zip = []\n",
    "for ano in range(2011,2022):\n",
    "    arquivos_dfp_zip.append(f'dfp_cia_aberta_{ano}.zip')\n",
    "    \n",
    "arquivos_dfp_zip"
   ]
  },
  {
   "cell_type": "code",
   "execution_count": 4,
   "metadata": {
    "ExecuteTime": {
     "end_time": "2021-06-22T00:06:10.177066Z",
     "start_time": "2021-06-22T00:06:10.067155Z"
    }
   },
   "outputs": [],
   "source": [
    "# for arquivo in arquivos_itr_zip:\n",
    "#     wget.download(itr + arquivo)\n",
    "\n",
    "# for arquivo in arquivos_dfp_zip:\n",
    "#     wget.download(dfp + arquivo)"
   ]
  },
  {
   "cell_type": "code",
   "execution_count": 6,
   "metadata": {
    "ExecuteTime": {
     "end_time": "2021-06-22T15:19:17.368477Z",
     "start_time": "2021-06-22T15:18:48.028257Z"
    }
   },
   "outputs": [],
   "source": [
    "# for arquivo in arquivos_itr_zip:\n",
    "#     ZipFile(path + 'ITR/' + arquivo,'r').extractall(path + 'ITR/')\n",
    "\n",
    "\n",
    "# for arquivo in arquivos_dfp_zip:\n",
    "#     ZipFile(path + 'DFP/' + arquivo,'r').extractall(path + 'DFP/')"
   ]
  },
  {
   "cell_type": "code",
   "execution_count": 7,
   "metadata": {
    "ExecuteTime": {
     "end_time": "2021-06-22T12:47:32.992402Z",
     "start_time": "2021-06-22T15:22:56.687791Z"
    }
   },
   "outputs": [],
   "source": [
    "nomes = ['BPA_con','BPA_ind','BPP_con','BPP_ind','DFC_MD_con',\n",
    "        'DFC_MD_ind','DFC_MI_con','DFC_MI_ind','DMPL_con',\n",
    "        'DMPL_ind','DRE_con','DRE_ind','DVA_con','DVA_ind']\n",
    "\n",
    "for nome in nomes:\n",
    "    arquivo = pd.DataFrame()\n",
    "    for ano in range(2011,2022):\n",
    "        arquivo = pd.concat([arquivo, \n",
    "            pd.read_csv(path + f'ITR/itr_cia_aberta_{nome}_{ano}.csv',\n",
    "                            sep = ';', decimal = ',', encoding = 'ISO-8859-1')])\n",
    "    arquivo.to_csv(path + 'DADOS_CONSOLIDADOS/itr_' + nome + '.csv', index = False)\n",
    "    \n",
    "    \n",
    "for nome in nomes:\n",
    "    arquivo = pd.DataFrame()\n",
    "    for ano in range(2011,2022):\n",
    "        arquivo = pd.concat([arquivo, \n",
    "            pd.read_csv(path + f'DFP/dfp_cia_aberta_{nome}_{ano}.csv',\n",
    "                            sep = ';', decimal = ',', encoding = 'ISO-8859-1')])\n",
    "    arquivo.to_csv(path + 'DADOS_CONSOLIDADOS/dfp_' + nome + '.csv', index = False)"
   ]
  },
  {
   "cell_type": "code",
   "execution_count": null,
   "metadata": {},
   "outputs": [],
   "source": [
    "df = pd.read_csv(path + 'DADOS_CONSOLIDADOS/' + 'DRE_con' + '.csv')"
   ]
  },
  {
   "cell_type": "code",
   "execution_count": null,
   "metadata": {},
   "outputs": [],
   "source": []
  },
  {
   "cell_type": "code",
   "execution_count": null,
   "metadata": {},
   "outputs": [],
   "source": []
  },
  {
   "cell_type": "code",
   "execution_count": null,
   "metadata": {},
   "outputs": [],
   "source": []
  },
  {
   "cell_type": "code",
   "execution_count": null,
   "metadata": {},
   "outputs": [],
   "source": []
  },
  {
   "cell_type": "code",
   "execution_count": null,
   "metadata": {},
   "outputs": [],
   "source": []
  }
 ],
 "metadata": {
  "kernelspec": {
   "display_name": "Python 3",
   "language": "python",
   "name": "python3"
  },
  "language_info": {
   "codemirror_mode": {
    "name": "ipython",
    "version": 3
   },
   "file_extension": ".py",
   "mimetype": "text/x-python",
   "name": "python",
   "nbconvert_exporter": "python",
   "pygments_lexer": "ipython3",
   "version": "3.8.5"
  },
  "varInspector": {
   "cols": {
    "lenName": 16,
    "lenType": 16,
    "lenVar": 40
   },
   "kernels_config": {
    "python": {
     "delete_cmd_postfix": "",
     "delete_cmd_prefix": "del ",
     "library": "var_list.py",
     "varRefreshCmd": "print(var_dic_list())"
    },
    "r": {
     "delete_cmd_postfix": ") ",
     "delete_cmd_prefix": "rm(",
     "library": "var_list.r",
     "varRefreshCmd": "cat(var_dic_list()) "
    }
   },
   "types_to_exclude": [
    "module",
    "function",
    "builtin_function_or_method",
    "instance",
    "_Feature"
   ],
   "window_display": false
  }
 },
 "nbformat": 4,
 "nbformat_minor": 4
}
