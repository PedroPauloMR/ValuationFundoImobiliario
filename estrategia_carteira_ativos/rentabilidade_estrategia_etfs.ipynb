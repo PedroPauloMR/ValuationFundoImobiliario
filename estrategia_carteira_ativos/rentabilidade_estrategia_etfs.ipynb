{
 "cells": [
  {
   "cell_type": "code",
   "execution_count": 1,
   "metadata": {
    "ExecuteTime": {
     "end_time": "2021-06-28T12:41:24.967032Z",
     "start_time": "2021-06-28T12:41:03.281639Z"
    }
   },
   "outputs": [],
   "source": [
    "import pandas as pd\n",
    "import numpy as np\n",
    "import matplotlib.pyplot as plt\n",
    "import seaborn as sns\n",
    "\n",
    "import yfinance as yf\n",
    "import investpy as inv"
   ]
  },
  {
   "cell_type": "code",
   "execution_count": 2,
   "metadata": {
    "ExecuteTime": {
     "end_time": "2021-06-28T12:41:25.249522Z",
     "start_time": "2021-06-28T12:41:24.975616Z"
    }
   },
   "outputs": [
    {
     "data": {
      "text/plain": [
       "['Ishares Ibovespa',\n",
       " 'It Now Ibovespa Fundo De Indice',\n",
       " 'ETF Bradesco Ibovespa Fdo De Indice',\n",
       " 'XP MALLS FDO INV IMOB FII',\n",
       " 'iShares BM&FBOVESPA Small Cap',\n",
       " 'Fundo de Invest Ishares SP 500',\n",
       " 'Malls Brasil Plural Fundo De Investimento Imobilia',\n",
       " 'Fdo Inv Imob VBI Logístico',\n",
       " 'It Now SP500 TRN',\n",
       " 'General Shopping e Outlets do Brasil Fundo de Inve',\n",
       " 'It Now PIBB IBrX-50',\n",
       " 'Fundo de Investimento Imobiliario FII UBS BR Receb',\n",
       " 'It Now IDIV',\n",
       " 'It Now IFNC',\n",
       " 'Fundo de FI Imobiliario Kinea FII',\n",
       " 'FI Imobiliario - Ourinvest Fundo de Fundos',\n",
       " 'iShares IBrX Brasil',\n",
       " 'BB SP Dividendos',\n",
       " 'It Now IMAT',\n",
       " 'iShares Carbono Eficiente (ICO2) Brasil',\n",
       " 'Caixa Rio Bravo Fundo de Fundos de Investimento Im',\n",
       " 'It Now IGCT',\n",
       " 'CAIXA Ibovespa',\n",
       " 'It Now ISE',\n",
       " 'Votorantim Securities Master FII-FII',\n",
       " 'Brazil Realty Fundo de Investimento Imobiliario FI',\n",
       " 'Loft I - Fdo Inv Imob']"
      ]
     },
     "execution_count": 2,
     "metadata": {},
     "output_type": "execute_result"
    }
   ],
   "source": [
    "inv.get_etfs_list('brazil')"
   ]
  },
  {
   "cell_type": "code",
   "execution_count": 3,
   "metadata": {
    "ExecuteTime": {
     "end_time": "2021-06-28T12:42:09.737859Z",
     "start_time": "2021-06-28T12:42:09.724020Z"
    }
   },
   "outputs": [],
   "source": [
    "etfs = ['Ishares Ibovespa','iShares BM&FBOVESPA Small Cap','Fundo de Invest Ishares SP 500']"
   ]
  },
  {
   "cell_type": "code",
   "execution_count": 5,
   "metadata": {
    "ExecuteTime": {
     "end_time": "2021-06-28T12:42:20.894318Z",
     "start_time": "2021-06-28T12:42:20.882249Z"
    }
   },
   "outputs": [],
   "source": [
    "data_inicio = '30/12/2014'\n",
    "data_fim = '19/06/2021'"
   ]
  },
  {
   "cell_type": "code",
   "execution_count": 6,
   "metadata": {
    "ExecuteTime": {
     "end_time": "2021-06-28T12:42:24.880426Z",
     "start_time": "2021-06-28T12:42:21.979657Z"
    }
   },
   "outputs": [],
   "source": [
    "ibov = inv.get_index_historical_data('Bovespa','brazil', from_date = data_inicio,\n",
    "                to_date = data_fim)[['Close']].pct_change().dropna()\n",
    "ibov.columns = ['ibov']"
   ]
  },
  {
   "cell_type": "code",
   "execution_count": 7,
   "metadata": {
    "ExecuteTime": {
     "end_time": "2021-06-28T12:42:29.278994Z",
     "start_time": "2021-06-28T12:42:24.883256Z"
    }
   },
   "outputs": [],
   "source": [
    "prices = pd.DataFrame(columns = etfs)\n",
    "for etf in etfs:\n",
    "    try:\n",
    "        ativo = inv.get_etf_historical_data(etf,'brazil', from_date = data_inicio,\n",
    "                to_date = data_fim)['Close']\n",
    "        prices[etf] = ativo\n",
    "    except:\n",
    "        print(f'Nao foi encontrado o {etf}')\n",
    "        prices.drop(etf, axis = 1, inplace = True)"
   ]
  },
  {
   "cell_type": "code",
   "execution_count": 8,
   "metadata": {
    "ExecuteTime": {
     "end_time": "2021-06-28T12:42:29.310224Z",
     "start_time": "2021-06-28T12:42:29.282157Z"
    }
   },
   "outputs": [
    {
     "data": {
      "text/html": [
       "<div>\n",
       "<style scoped>\n",
       "    .dataframe tbody tr th:only-of-type {\n",
       "        vertical-align: middle;\n",
       "    }\n",
       "\n",
       "    .dataframe tbody tr th {\n",
       "        vertical-align: top;\n",
       "    }\n",
       "\n",
       "    .dataframe thead th {\n",
       "        text-align: right;\n",
       "    }\n",
       "</style>\n",
       "<table border=\"1\" class=\"dataframe\">\n",
       "  <thead>\n",
       "    <tr style=\"text-align: right;\">\n",
       "      <th></th>\n",
       "      <th>BOVA11</th>\n",
       "      <th>SMAL11</th>\n",
       "      <th>IVVB11</th>\n",
       "    </tr>\n",
       "    <tr>\n",
       "      <th>Date</th>\n",
       "      <th></th>\n",
       "      <th></th>\n",
       "      <th></th>\n",
       "    </tr>\n",
       "  </thead>\n",
       "  <tbody>\n",
       "    <tr>\n",
       "      <th>2014-12-30</th>\n",
       "      <td>48.54</td>\n",
       "      <td>53.11</td>\n",
       "      <td>55.39</td>\n",
       "    </tr>\n",
       "    <tr>\n",
       "      <th>2015-01-02</th>\n",
       "      <td>47.26</td>\n",
       "      <td>52.02</td>\n",
       "      <td>55.80</td>\n",
       "    </tr>\n",
       "    <tr>\n",
       "      <th>2015-01-05</th>\n",
       "      <td>46.32</td>\n",
       "      <td>50.55</td>\n",
       "      <td>55.75</td>\n",
       "    </tr>\n",
       "    <tr>\n",
       "      <th>2015-01-06</th>\n",
       "      <td>46.58</td>\n",
       "      <td>50.00</td>\n",
       "      <td>54.85</td>\n",
       "    </tr>\n",
       "    <tr>\n",
       "      <th>2015-01-07</th>\n",
       "      <td>48.15</td>\n",
       "      <td>51.25</td>\n",
       "      <td>55.17</td>\n",
       "    </tr>\n",
       "  </tbody>\n",
       "</table>\n",
       "</div>"
      ],
      "text/plain": [
       "            BOVA11  SMAL11  IVVB11\n",
       "Date                              \n",
       "2014-12-30   48.54   53.11   55.39\n",
       "2015-01-02   47.26   52.02   55.80\n",
       "2015-01-05   46.32   50.55   55.75\n",
       "2015-01-06   46.58   50.00   54.85\n",
       "2015-01-07   48.15   51.25   55.17"
      ]
     },
     "execution_count": 8,
     "metadata": {},
     "output_type": "execute_result"
    }
   ],
   "source": [
    "prices.columns = ['BOVA11','SMAL11','IVVB11']\n",
    "prices.head()"
   ]
  },
  {
   "cell_type": "code",
   "execution_count": 9,
   "metadata": {
    "ExecuteTime": {
     "end_time": "2021-06-28T12:42:29.402088Z",
     "start_time": "2021-06-28T12:42:29.313113Z"
    }
   },
   "outputs": [
    {
     "data": {
      "text/html": [
       "<div>\n",
       "<style scoped>\n",
       "    .dataframe tbody tr th:only-of-type {\n",
       "        vertical-align: middle;\n",
       "    }\n",
       "\n",
       "    .dataframe tbody tr th {\n",
       "        vertical-align: top;\n",
       "    }\n",
       "\n",
       "    .dataframe thead th {\n",
       "        text-align: right;\n",
       "    }\n",
       "</style>\n",
       "<table border=\"1\" class=\"dataframe\">\n",
       "  <thead>\n",
       "    <tr style=\"text-align: right;\">\n",
       "      <th></th>\n",
       "      <th>BOVA11</th>\n",
       "      <th>SMAL11</th>\n",
       "      <th>IVVB11</th>\n",
       "    </tr>\n",
       "    <tr>\n",
       "      <th>Date</th>\n",
       "      <th></th>\n",
       "      <th></th>\n",
       "      <th></th>\n",
       "    </tr>\n",
       "  </thead>\n",
       "  <tbody>\n",
       "    <tr>\n",
       "      <th>2015-01-02</th>\n",
       "      <td>-0.026370</td>\n",
       "      <td>-0.020523</td>\n",
       "      <td>0.007402</td>\n",
       "    </tr>\n",
       "    <tr>\n",
       "      <th>2015-01-05</th>\n",
       "      <td>-0.019890</td>\n",
       "      <td>-0.028258</td>\n",
       "      <td>-0.000896</td>\n",
       "    </tr>\n",
       "    <tr>\n",
       "      <th>2015-01-06</th>\n",
       "      <td>0.005613</td>\n",
       "      <td>-0.010880</td>\n",
       "      <td>-0.016143</td>\n",
       "    </tr>\n",
       "    <tr>\n",
       "      <th>2015-01-07</th>\n",
       "      <td>0.033705</td>\n",
       "      <td>0.025000</td>\n",
       "      <td>0.005834</td>\n",
       "    </tr>\n",
       "    <tr>\n",
       "      <th>2015-01-08</th>\n",
       "      <td>0.007477</td>\n",
       "      <td>0.014634</td>\n",
       "      <td>0.011419</td>\n",
       "    </tr>\n",
       "  </tbody>\n",
       "</table>\n",
       "</div>"
      ],
      "text/plain": [
       "              BOVA11    SMAL11    IVVB11\n",
       "Date                                    \n",
       "2015-01-02 -0.026370 -0.020523  0.007402\n",
       "2015-01-05 -0.019890 -0.028258 -0.000896\n",
       "2015-01-06  0.005613 -0.010880 -0.016143\n",
       "2015-01-07  0.033705  0.025000  0.005834\n",
       "2015-01-08  0.007477  0.014634  0.011419"
      ]
     },
     "execution_count": 9,
     "metadata": {},
     "output_type": "execute_result"
    }
   ],
   "source": [
    "retornos = prices.pct_change().dropna()\n",
    "retornos.head()"
   ]
  },
  {
   "cell_type": "code",
   "execution_count": 17,
   "metadata": {
    "ExecuteTime": {
     "end_time": "2021-06-28T12:48:17.626983Z",
     "start_time": "2021-06-28T12:48:17.606979Z"
    }
   },
   "outputs": [],
   "source": [
    "# pesos carteira\n",
    "#BOVA | SMAL | IVVB\n",
    "pesos = [[0.5,0.0,0.5],\n",
    "         [0.0,0.5,0.5],\n",
    "         [0.5,0.5,0.0],\n",
    "        [0.33,0.33,0.33]]"
   ]
  },
  {
   "cell_type": "code",
   "execution_count": 18,
   "metadata": {
    "ExecuteTime": {
     "end_time": "2021-06-28T12:48:19.420077Z",
     "start_time": "2021-06-28T12:48:19.360823Z"
    }
   },
   "outputs": [
    {
     "data": {
      "text/html": [
       "<div>\n",
       "<style scoped>\n",
       "    .dataframe tbody tr th:only-of-type {\n",
       "        vertical-align: middle;\n",
       "    }\n",
       "\n",
       "    .dataframe tbody tr th {\n",
       "        vertical-align: top;\n",
       "    }\n",
       "\n",
       "    .dataframe thead th {\n",
       "        text-align: right;\n",
       "    }\n",
       "</style>\n",
       "<table border=\"1\" class=\"dataframe\">\n",
       "  <thead>\n",
       "    <tr style=\"text-align: right;\">\n",
       "      <th></th>\n",
       "      <th>carteira 1</th>\n",
       "      <th>carteira 2</th>\n",
       "      <th>carteira 3</th>\n",
       "      <th>carteira 4</th>\n",
       "      <th>ibov</th>\n",
       "      <th>BOVA11</th>\n",
       "      <th>SMAL11</th>\n",
       "      <th>IVVB11</th>\n",
       "    </tr>\n",
       "    <tr>\n",
       "      <th>Date</th>\n",
       "      <th></th>\n",
       "      <th></th>\n",
       "      <th></th>\n",
       "      <th></th>\n",
       "      <th></th>\n",
       "      <th></th>\n",
       "      <th></th>\n",
       "      <th></th>\n",
       "    </tr>\n",
       "  </thead>\n",
       "  <tbody>\n",
       "    <tr>\n",
       "      <th>2015-01-02</th>\n",
       "      <td>-0.009484</td>\n",
       "      <td>-0.006561</td>\n",
       "      <td>-0.023447</td>\n",
       "      <td>-0.013032</td>\n",
       "      <td>-0.029896</td>\n",
       "      <td>-0.026370</td>\n",
       "      <td>-0.020523</td>\n",
       "      <td>0.007402</td>\n",
       "    </tr>\n",
       "    <tr>\n",
       "      <th>2015-01-05</th>\n",
       "      <td>-0.010393</td>\n",
       "      <td>-0.014577</td>\n",
       "      <td>-0.024074</td>\n",
       "      <td>-0.016185</td>\n",
       "      <td>-0.020510</td>\n",
       "      <td>-0.019890</td>\n",
       "      <td>-0.028258</td>\n",
       "      <td>-0.000896</td>\n",
       "    </tr>\n",
       "    <tr>\n",
       "      <th>2015-01-06</th>\n",
       "      <td>-0.005265</td>\n",
       "      <td>-0.013512</td>\n",
       "      <td>-0.002634</td>\n",
       "      <td>-0.007066</td>\n",
       "      <td>0.010186</td>\n",
       "      <td>0.005613</td>\n",
       "      <td>-0.010880</td>\n",
       "      <td>-0.016143</td>\n",
       "    </tr>\n",
       "    <tr>\n",
       "      <th>2015-01-07</th>\n",
       "      <td>0.019770</td>\n",
       "      <td>0.015417</td>\n",
       "      <td>0.029353</td>\n",
       "      <td>0.021298</td>\n",
       "      <td>0.030458</td>\n",
       "      <td>0.033705</td>\n",
       "      <td>0.025000</td>\n",
       "      <td>0.005834</td>\n",
       "    </tr>\n",
       "    <tr>\n",
       "      <th>2015-01-08</th>\n",
       "      <td>0.009448</td>\n",
       "      <td>0.013027</td>\n",
       "      <td>0.011055</td>\n",
       "      <td>0.011065</td>\n",
       "      <td>0.009704</td>\n",
       "      <td>0.007477</td>\n",
       "      <td>0.014634</td>\n",
       "      <td>0.011419</td>\n",
       "    </tr>\n",
       "    <tr>\n",
       "      <th>...</th>\n",
       "      <td>...</td>\n",
       "      <td>...</td>\n",
       "      <td>...</td>\n",
       "      <td>...</td>\n",
       "      <td>...</td>\n",
       "      <td>...</td>\n",
       "      <td>...</td>\n",
       "      <td>...</td>\n",
       "    </tr>\n",
       "    <tr>\n",
       "      <th>2021-06-14</th>\n",
       "      <td>-0.002574</td>\n",
       "      <td>0.001995</td>\n",
       "      <td>0.009952</td>\n",
       "      <td>0.003093</td>\n",
       "      <td>0.005925</td>\n",
       "      <td>0.005382</td>\n",
       "      <td>0.014521</td>\n",
       "      <td>-0.010531</td>\n",
       "    </tr>\n",
       "    <tr>\n",
       "      <th>2021-06-15</th>\n",
       "      <td>-0.004137</td>\n",
       "      <td>-0.005851</td>\n",
       "      <td>-0.001474</td>\n",
       "      <td>-0.003783</td>\n",
       "      <td>-0.000899</td>\n",
       "      <td>0.000240</td>\n",
       "      <td>-0.003188</td>\n",
       "      <td>-0.008514</td>\n",
       "    </tr>\n",
       "    <tr>\n",
       "      <th>2021-06-16</th>\n",
       "      <td>-0.004049</td>\n",
       "      <td>-0.000998</td>\n",
       "      <td>-0.004618</td>\n",
       "      <td>-0.003189</td>\n",
       "      <td>-0.006396</td>\n",
       "      <td>-0.007669</td>\n",
       "      <td>-0.001566</td>\n",
       "      <td>-0.000429</td>\n",
       "    </tr>\n",
       "    <tr>\n",
       "      <th>2021-06-17</th>\n",
       "      <td>-0.010133</td>\n",
       "      <td>-0.009408</td>\n",
       "      <td>-0.008373</td>\n",
       "      <td>-0.009212</td>\n",
       "      <td>-0.009299</td>\n",
       "      <td>-0.009097</td>\n",
       "      <td>-0.007649</td>\n",
       "      <td>-0.011168</td>\n",
       "    </tr>\n",
       "    <tr>\n",
       "      <th>2021-06-18</th>\n",
       "      <td>-0.001006</td>\n",
       "      <td>0.000897</td>\n",
       "      <td>0.003366</td>\n",
       "      <td>0.001075</td>\n",
       "      <td>0.002718</td>\n",
       "      <td>0.001462</td>\n",
       "      <td>0.005270</td>\n",
       "      <td>-0.003475</td>\n",
       "    </tr>\n",
       "  </tbody>\n",
       "</table>\n",
       "<p>1597 rows × 8 columns</p>\n",
       "</div>"
      ],
      "text/plain": [
       "            carteira 1  carteira 2  carteira 3  carteira 4      ibov  \\\n",
       "Date                                                                   \n",
       "2015-01-02   -0.009484   -0.006561   -0.023447   -0.013032 -0.029896   \n",
       "2015-01-05   -0.010393   -0.014577   -0.024074   -0.016185 -0.020510   \n",
       "2015-01-06   -0.005265   -0.013512   -0.002634   -0.007066  0.010186   \n",
       "2015-01-07    0.019770    0.015417    0.029353    0.021298  0.030458   \n",
       "2015-01-08    0.009448    0.013027    0.011055    0.011065  0.009704   \n",
       "...                ...         ...         ...         ...       ...   \n",
       "2021-06-14   -0.002574    0.001995    0.009952    0.003093  0.005925   \n",
       "2021-06-15   -0.004137   -0.005851   -0.001474   -0.003783 -0.000899   \n",
       "2021-06-16   -0.004049   -0.000998   -0.004618   -0.003189 -0.006396   \n",
       "2021-06-17   -0.010133   -0.009408   -0.008373   -0.009212 -0.009299   \n",
       "2021-06-18   -0.001006    0.000897    0.003366    0.001075  0.002718   \n",
       "\n",
       "              BOVA11    SMAL11    IVVB11  \n",
       "Date                                      \n",
       "2015-01-02 -0.026370 -0.020523  0.007402  \n",
       "2015-01-05 -0.019890 -0.028258 -0.000896  \n",
       "2015-01-06  0.005613 -0.010880 -0.016143  \n",
       "2015-01-07  0.033705  0.025000  0.005834  \n",
       "2015-01-08  0.007477  0.014634  0.011419  \n",
       "...              ...       ...       ...  \n",
       "2021-06-14  0.005382  0.014521 -0.010531  \n",
       "2021-06-15  0.000240 -0.003188 -0.008514  \n",
       "2021-06-16 -0.007669 -0.001566 -0.000429  \n",
       "2021-06-17 -0.009097 -0.007649 -0.011168  \n",
       "2021-06-18  0.001462  0.005270 -0.003475  \n",
       "\n",
       "[1597 rows x 8 columns]"
      ]
     },
     "execution_count": 18,
     "metadata": {},
     "output_type": "execute_result"
    }
   ],
   "source": [
    "carteiras = pd.DataFrame()\n",
    "\n",
    "for i, peso in enumerate(pesos):\n",
    "    carteiras[f'carteira {i+1}'] = retornos @ peso\n",
    "    \n",
    "carteiras = pd.concat([carteiras, ibov, retornos], axis = 1)\n",
    "carteiras"
   ]
  },
  {
   "cell_type": "code",
   "execution_count": 19,
   "metadata": {
    "ExecuteTime": {
     "end_time": "2021-06-28T12:48:25.061536Z",
     "start_time": "2021-06-28T12:48:25.038504Z"
    }
   },
   "outputs": [],
   "source": [
    "carteiras_normalizadas = (1 + carteiras.iloc[1:]).cumprod()\n",
    "carteiras_normalizadas.iloc[0] = 1"
   ]
  },
  {
   "cell_type": "code",
   "execution_count": 20,
   "metadata": {
    "ExecuteTime": {
     "end_time": "2021-06-28T12:48:25.419527Z",
     "start_time": "2021-06-28T12:48:25.380614Z"
    }
   },
   "outputs": [
    {
     "data": {
      "text/html": [
       "<div>\n",
       "<style scoped>\n",
       "    .dataframe tbody tr th:only-of-type {\n",
       "        vertical-align: middle;\n",
       "    }\n",
       "\n",
       "    .dataframe tbody tr th {\n",
       "        vertical-align: top;\n",
       "    }\n",
       "\n",
       "    .dataframe thead th {\n",
       "        text-align: right;\n",
       "    }\n",
       "</style>\n",
       "<table border=\"1\" class=\"dataframe\">\n",
       "  <thead>\n",
       "    <tr style=\"text-align: right;\">\n",
       "      <th></th>\n",
       "      <th>carteira 1</th>\n",
       "      <th>carteira 2</th>\n",
       "      <th>carteira 3</th>\n",
       "      <th>carteira 4</th>\n",
       "      <th>ibov</th>\n",
       "      <th>BOVA11</th>\n",
       "      <th>SMAL11</th>\n",
       "      <th>IVVB11</th>\n",
       "    </tr>\n",
       "    <tr>\n",
       "      <th>Date</th>\n",
       "      <th></th>\n",
       "      <th></th>\n",
       "      <th></th>\n",
       "      <th></th>\n",
       "      <th></th>\n",
       "      <th></th>\n",
       "      <th></th>\n",
       "      <th></th>\n",
       "    </tr>\n",
       "  </thead>\n",
       "  <tbody>\n",
       "    <tr>\n",
       "      <th>2015-01-05</th>\n",
       "      <td>1.000000</td>\n",
       "      <td>1.000000</td>\n",
       "      <td>1.000000</td>\n",
       "      <td>1.000000</td>\n",
       "      <td>1.000000</td>\n",
       "      <td>1.000000</td>\n",
       "      <td>1.000000</td>\n",
       "      <td>1.000000</td>\n",
       "    </tr>\n",
       "    <tr>\n",
       "      <th>2015-01-06</th>\n",
       "      <td>0.984397</td>\n",
       "      <td>0.972108</td>\n",
       "      <td>0.973356</td>\n",
       "      <td>0.976864</td>\n",
       "      <td>0.989467</td>\n",
       "      <td>0.985612</td>\n",
       "      <td>0.961169</td>\n",
       "      <td>0.982975</td>\n",
       "    </tr>\n",
       "    <tr>\n",
       "      <th>2015-01-07</th>\n",
       "      <td>1.003858</td>\n",
       "      <td>0.987095</td>\n",
       "      <td>1.001926</td>\n",
       "      <td>0.997669</td>\n",
       "      <td>1.019603</td>\n",
       "      <td>1.018832</td>\n",
       "      <td>0.985198</td>\n",
       "      <td>0.988710</td>\n",
       "    </tr>\n",
       "    <tr>\n",
       "      <th>2015-01-08</th>\n",
       "      <td>1.013342</td>\n",
       "      <td>0.999953</td>\n",
       "      <td>1.013003</td>\n",
       "      <td>1.008709</td>\n",
       "      <td>1.029498</td>\n",
       "      <td>1.026449</td>\n",
       "      <td>0.999616</td>\n",
       "      <td>1.000000</td>\n",
       "    </tr>\n",
       "    <tr>\n",
       "      <th>2015-01-09</th>\n",
       "      <td>0.993572</td>\n",
       "      <td>0.980930</td>\n",
       "      <td>0.993030</td>\n",
       "      <td>0.989319</td>\n",
       "      <td>1.006761</td>\n",
       "      <td>1.005713</td>\n",
       "      <td>0.980392</td>\n",
       "      <td>0.981183</td>\n",
       "    </tr>\n",
       "    <tr>\n",
       "      <th>...</th>\n",
       "      <td>...</td>\n",
       "      <td>...</td>\n",
       "      <td>...</td>\n",
       "      <td>...</td>\n",
       "      <td>...</td>\n",
       "      <td>...</td>\n",
       "      <td>...</td>\n",
       "      <td>...</td>\n",
       "    </tr>\n",
       "    <tr>\n",
       "      <th>2021-06-14</th>\n",
       "      <td>3.620142</td>\n",
       "      <td>3.848862</td>\n",
       "      <td>2.844315</td>\n",
       "      <td>3.441832</td>\n",
       "      <td>2.684037</td>\n",
       "      <td>2.648117</td>\n",
       "      <td>2.954633</td>\n",
       "      <td>4.209677</td>\n",
       "    </tr>\n",
       "    <tr>\n",
       "      <th>2021-06-15</th>\n",
       "      <td>3.605165</td>\n",
       "      <td>3.826342</td>\n",
       "      <td>2.840123</td>\n",
       "      <td>3.428813</td>\n",
       "      <td>2.681625</td>\n",
       "      <td>2.648752</td>\n",
       "      <td>2.945213</td>\n",
       "      <td>4.173835</td>\n",
       "    </tr>\n",
       "    <tr>\n",
       "      <th>2021-06-16</th>\n",
       "      <td>3.590567</td>\n",
       "      <td>3.822523</td>\n",
       "      <td>2.827008</td>\n",
       "      <td>3.417877</td>\n",
       "      <td>2.664475</td>\n",
       "      <td>2.628438</td>\n",
       "      <td>2.940600</td>\n",
       "      <td>4.172043</td>\n",
       "    </tr>\n",
       "    <tr>\n",
       "      <th>2021-06-17</th>\n",
       "      <td>3.554185</td>\n",
       "      <td>3.786559</td>\n",
       "      <td>2.803338</td>\n",
       "      <td>3.386393</td>\n",
       "      <td>2.639697</td>\n",
       "      <td>2.604528</td>\n",
       "      <td>2.918108</td>\n",
       "      <td>4.125448</td>\n",
       "    </tr>\n",
       "    <tr>\n",
       "      <th>2021-06-18</th>\n",
       "      <td>3.550608</td>\n",
       "      <td>3.789957</td>\n",
       "      <td>2.812775</td>\n",
       "      <td>3.390033</td>\n",
       "      <td>2.646871</td>\n",
       "      <td>2.608337</td>\n",
       "      <td>2.933487</td>\n",
       "      <td>4.111111</td>\n",
       "    </tr>\n",
       "  </tbody>\n",
       "</table>\n",
       "<p>1596 rows × 8 columns</p>\n",
       "</div>"
      ],
      "text/plain": [
       "            carteira 1  carteira 2  carteira 3  carteira 4      ibov  \\\n",
       "Date                                                                   \n",
       "2015-01-05    1.000000    1.000000    1.000000    1.000000  1.000000   \n",
       "2015-01-06    0.984397    0.972108    0.973356    0.976864  0.989467   \n",
       "2015-01-07    1.003858    0.987095    1.001926    0.997669  1.019603   \n",
       "2015-01-08    1.013342    0.999953    1.013003    1.008709  1.029498   \n",
       "2015-01-09    0.993572    0.980930    0.993030    0.989319  1.006761   \n",
       "...                ...         ...         ...         ...       ...   \n",
       "2021-06-14    3.620142    3.848862    2.844315    3.441832  2.684037   \n",
       "2021-06-15    3.605165    3.826342    2.840123    3.428813  2.681625   \n",
       "2021-06-16    3.590567    3.822523    2.827008    3.417877  2.664475   \n",
       "2021-06-17    3.554185    3.786559    2.803338    3.386393  2.639697   \n",
       "2021-06-18    3.550608    3.789957    2.812775    3.390033  2.646871   \n",
       "\n",
       "              BOVA11    SMAL11    IVVB11  \n",
       "Date                                      \n",
       "2015-01-05  1.000000  1.000000  1.000000  \n",
       "2015-01-06  0.985612  0.961169  0.982975  \n",
       "2015-01-07  1.018832  0.985198  0.988710  \n",
       "2015-01-08  1.026449  0.999616  1.000000  \n",
       "2015-01-09  1.005713  0.980392  0.981183  \n",
       "...              ...       ...       ...  \n",
       "2021-06-14  2.648117  2.954633  4.209677  \n",
       "2021-06-15  2.648752  2.945213  4.173835  \n",
       "2021-06-16  2.628438  2.940600  4.172043  \n",
       "2021-06-17  2.604528  2.918108  4.125448  \n",
       "2021-06-18  2.608337  2.933487  4.111111  \n",
       "\n",
       "[1596 rows x 8 columns]"
      ]
     },
     "execution_count": 20,
     "metadata": {},
     "output_type": "execute_result"
    }
   ],
   "source": [
    "carteiras_normalizadas"
   ]
  },
  {
   "cell_type": "code",
   "execution_count": 21,
   "metadata": {
    "ExecuteTime": {
     "end_time": "2021-06-28T12:48:28.566995Z",
     "start_time": "2021-06-28T12:48:28.049094Z"
    }
   },
   "outputs": [
    {
     "data": {
      "text/plain": [
       "<AxesSubplot:xlabel='Date'>"
      ]
     },
     "execution_count": 21,
     "metadata": {},
     "output_type": "execute_result"
    },
    {
     "data": {
      "image/png": "[encoded data removed]",
      "text/plain": [
       "<Figure size 1224x576 with 1 Axes>"
      ]
     },
     "metadata": {
      "needs_background": "light"
     },
     "output_type": "display_data"
    }
   ],
   "source": [
    "(carteiras_normalizadas*100).plot(figsize=(17,8))"
   ]
  },
  {
   "cell_type": "code",
   "execution_count": 25,
   "metadata": {
    "ExecuteTime": {
     "end_time": "2021-06-28T12:49:36.797246Z",
     "start_time": "2021-06-28T12:49:36.787236Z"
    }
   },
   "outputs": [],
   "source": [
    "resultados = pd.DataFrame(index = ['retorno total','volatilidade'], columns = carteiras.columns)\n",
    "resultados.loc['volatilidade'] = carteiras.std()*252**0.5\n",
    "resultados.loc['retorno total'] = carteiras_normalizadas.iloc[-1] - 1"
   ]
  },
  {
   "cell_type": "code",
   "execution_count": 32,
   "metadata": {
    "ExecuteTime": {
     "end_time": "2021-06-28T13:03:00.873548Z",
     "start_time": "2021-06-28T13:03:00.845627Z"
    }
   },
   "outputs": [
    {
     "data": {
      "text/html": [
       "<div>\n",
       "<style scoped>\n",
       "    .dataframe tbody tr th:only-of-type {\n",
       "        vertical-align: middle;\n",
       "    }\n",
       "\n",
       "    .dataframe tbody tr th {\n",
       "        vertical-align: top;\n",
       "    }\n",
       "\n",
       "    .dataframe thead th {\n",
       "        text-align: right;\n",
       "    }\n",
       "</style>\n",
       "<table border=\"1\" class=\"dataframe\">\n",
       "  <thead>\n",
       "    <tr style=\"text-align: right;\">\n",
       "      <th></th>\n",
       "      <th>carteira 1</th>\n",
       "      <th>carteira 2</th>\n",
       "      <th>carteira 3</th>\n",
       "      <th>carteira 4</th>\n",
       "      <th>ibov</th>\n",
       "      <th>BOVA11</th>\n",
       "      <th>SMAL11</th>\n",
       "      <th>IVVB11</th>\n",
       "    </tr>\n",
       "    <tr>\n",
       "      <th>Date</th>\n",
       "      <th></th>\n",
       "      <th></th>\n",
       "      <th></th>\n",
       "      <th></th>\n",
       "      <th></th>\n",
       "      <th></th>\n",
       "      <th></th>\n",
       "      <th></th>\n",
       "    </tr>\n",
       "  </thead>\n",
       "  <tbody>\n",
       "    <tr>\n",
       "      <th>2015-01-02</th>\n",
       "      <td>-0.009484</td>\n",
       "      <td>-0.006561</td>\n",
       "      <td>-0.023447</td>\n",
       "      <td>-0.013032</td>\n",
       "      <td>-0.029896</td>\n",
       "      <td>-0.026370</td>\n",
       "      <td>-0.020523</td>\n",
       "      <td>0.007402</td>\n",
       "    </tr>\n",
       "    <tr>\n",
       "      <th>2015-01-05</th>\n",
       "      <td>-0.010393</td>\n",
       "      <td>-0.014577</td>\n",
       "      <td>-0.024074</td>\n",
       "      <td>-0.016185</td>\n",
       "      <td>-0.020510</td>\n",
       "      <td>-0.019890</td>\n",
       "      <td>-0.028258</td>\n",
       "      <td>-0.000896</td>\n",
       "    </tr>\n",
       "    <tr>\n",
       "      <th>2015-01-06</th>\n",
       "      <td>-0.005265</td>\n",
       "      <td>-0.013512</td>\n",
       "      <td>-0.002634</td>\n",
       "      <td>-0.007066</td>\n",
       "      <td>0.010186</td>\n",
       "      <td>0.005613</td>\n",
       "      <td>-0.010880</td>\n",
       "      <td>-0.016143</td>\n",
       "    </tr>\n",
       "    <tr>\n",
       "      <th>2015-01-07</th>\n",
       "      <td>0.019770</td>\n",
       "      <td>0.015417</td>\n",
       "      <td>0.029353</td>\n",
       "      <td>0.021298</td>\n",
       "      <td>0.030458</td>\n",
       "      <td>0.033705</td>\n",
       "      <td>0.025000</td>\n",
       "      <td>0.005834</td>\n",
       "    </tr>\n",
       "    <tr>\n",
       "      <th>2015-01-08</th>\n",
       "      <td>0.009448</td>\n",
       "      <td>0.013027</td>\n",
       "      <td>0.011055</td>\n",
       "      <td>0.011065</td>\n",
       "      <td>0.009704</td>\n",
       "      <td>0.007477</td>\n",
       "      <td>0.014634</td>\n",
       "      <td>0.011419</td>\n",
       "    </tr>\n",
       "    <tr>\n",
       "      <th>...</th>\n",
       "      <td>...</td>\n",
       "      <td>...</td>\n",
       "      <td>...</td>\n",
       "      <td>...</td>\n",
       "      <td>...</td>\n",
       "      <td>...</td>\n",
       "      <td>...</td>\n",
       "      <td>...</td>\n",
       "    </tr>\n",
       "    <tr>\n",
       "      <th>2021-06-14</th>\n",
       "      <td>-0.002574</td>\n",
       "      <td>0.001995</td>\n",
       "      <td>0.009952</td>\n",
       "      <td>0.003093</td>\n",
       "      <td>0.005925</td>\n",
       "      <td>0.005382</td>\n",
       "      <td>0.014521</td>\n",
       "      <td>-0.010531</td>\n",
       "    </tr>\n",
       "    <tr>\n",
       "      <th>2021-06-15</th>\n",
       "      <td>-0.004137</td>\n",
       "      <td>-0.005851</td>\n",
       "      <td>-0.001474</td>\n",
       "      <td>-0.003783</td>\n",
       "      <td>-0.000899</td>\n",
       "      <td>0.000240</td>\n",
       "      <td>-0.003188</td>\n",
       "      <td>-0.008514</td>\n",
       "    </tr>\n",
       "    <tr>\n",
       "      <th>2021-06-16</th>\n",
       "      <td>-0.004049</td>\n",
       "      <td>-0.000998</td>\n",
       "      <td>-0.004618</td>\n",
       "      <td>-0.003189</td>\n",
       "      <td>-0.006396</td>\n",
       "      <td>-0.007669</td>\n",
       "      <td>-0.001566</td>\n",
       "      <td>-0.000429</td>\n",
       "    </tr>\n",
       "    <tr>\n",
       "      <th>2021-06-17</th>\n",
       "      <td>-0.010133</td>\n",
       "      <td>-0.009408</td>\n",
       "      <td>-0.008373</td>\n",
       "      <td>-0.009212</td>\n",
       "      <td>-0.009299</td>\n",
       "      <td>-0.009097</td>\n",
       "      <td>-0.007649</td>\n",
       "      <td>-0.011168</td>\n",
       "    </tr>\n",
       "    <tr>\n",
       "      <th>2021-06-18</th>\n",
       "      <td>-0.001006</td>\n",
       "      <td>0.000897</td>\n",
       "      <td>0.003366</td>\n",
       "      <td>0.001075</td>\n",
       "      <td>0.002718</td>\n",
       "      <td>0.001462</td>\n",
       "      <td>0.005270</td>\n",
       "      <td>-0.003475</td>\n",
       "    </tr>\n",
       "  </tbody>\n",
       "</table>\n",
       "<p>1597 rows × 8 columns</p>\n",
       "</div>"
      ],
      "text/plain": [
       "            carteira 1  carteira 2  carteira 3  carteira 4      ibov  \\\n",
       "Date                                                                   \n",
       "2015-01-02   -0.009484   -0.006561   -0.023447   -0.013032 -0.029896   \n",
       "2015-01-05   -0.010393   -0.014577   -0.024074   -0.016185 -0.020510   \n",
       "2015-01-06   -0.005265   -0.013512   -0.002634   -0.007066  0.010186   \n",
       "2015-01-07    0.019770    0.015417    0.029353    0.021298  0.030458   \n",
       "2015-01-08    0.009448    0.013027    0.011055    0.011065  0.009704   \n",
       "...                ...         ...         ...         ...       ...   \n",
       "2021-06-14   -0.002574    0.001995    0.009952    0.003093  0.005925   \n",
       "2021-06-15   -0.004137   -0.005851   -0.001474   -0.003783 -0.000899   \n",
       "2021-06-16   -0.004049   -0.000998   -0.004618   -0.003189 -0.006396   \n",
       "2021-06-17   -0.010133   -0.009408   -0.008373   -0.009212 -0.009299   \n",
       "2021-06-18   -0.001006    0.000897    0.003366    0.001075  0.002718   \n",
       "\n",
       "              BOVA11    SMAL11    IVVB11  \n",
       "Date                                      \n",
       "2015-01-02 -0.026370 -0.020523  0.007402  \n",
       "2015-01-05 -0.019890 -0.028258 -0.000896  \n",
       "2015-01-06  0.005613 -0.010880 -0.016143  \n",
       "2015-01-07  0.033705  0.025000  0.005834  \n",
       "2015-01-08  0.007477  0.014634  0.011419  \n",
       "...              ...       ...       ...  \n",
       "2021-06-14  0.005382  0.014521 -0.010531  \n",
       "2021-06-15  0.000240 -0.003188 -0.008514  \n",
       "2021-06-16 -0.007669 -0.001566 -0.000429  \n",
       "2021-06-17 -0.009097 -0.007649 -0.011168  \n",
       "2021-06-18  0.001462  0.005270 -0.003475  \n",
       "\n",
       "[1597 rows x 8 columns]"
      ]
     },
     "execution_count": 32,
     "metadata": {},
     "output_type": "execute_result"
    }
   ],
   "source": [
    "carteiras"
   ]
  },
  {
   "cell_type": "code",
   "execution_count": 23,
   "metadata": {
    "ExecuteTime": {
     "end_time": "2021-06-28T12:48:42.648821Z",
     "start_time": "2021-06-28T12:48:42.623926Z"
    }
   },
   "outputs": [
    {
     "data": {
      "text/html": [
       "<div>\n",
       "<style scoped>\n",
       "    .dataframe tbody tr th:only-of-type {\n",
       "        vertical-align: middle;\n",
       "    }\n",
       "\n",
       "    .dataframe tbody tr th {\n",
       "        vertical-align: top;\n",
       "    }\n",
       "\n",
       "    .dataframe thead th {\n",
       "        text-align: right;\n",
       "    }\n",
       "</style>\n",
       "<table border=\"1\" class=\"dataframe\">\n",
       "  <thead>\n",
       "    <tr style=\"text-align: right;\">\n",
       "      <th></th>\n",
       "      <th>carteira 1</th>\n",
       "      <th>carteira 2</th>\n",
       "      <th>carteira 3</th>\n",
       "      <th>carteira 4</th>\n",
       "      <th>ibov</th>\n",
       "      <th>BOVA11</th>\n",
       "      <th>SMAL11</th>\n",
       "      <th>IVVB11</th>\n",
       "    </tr>\n",
       "  </thead>\n",
       "  <tbody>\n",
       "    <tr>\n",
       "      <th>retorno total</th>\n",
       "      <td>255.1%</td>\n",
       "      <td>279.0%</td>\n",
       "      <td>181.3%</td>\n",
       "      <td>239.0%</td>\n",
       "      <td>164.7%</td>\n",
       "      <td>160.8%</td>\n",
       "      <td>193.3%</td>\n",
       "      <td>311.1%</td>\n",
       "    </tr>\n",
       "    <tr>\n",
       "      <th>volatilidade</th>\n",
       "      <td>18.5%</td>\n",
       "      <td>18.5%</td>\n",
       "      <td>26.3%</td>\n",
       "      <td>19.7%</td>\n",
       "      <td>26.7%</td>\n",
       "      <td>27.0%</td>\n",
       "      <td>27.6%</td>\n",
       "      <td>21.7%</td>\n",
       "    </tr>\n",
       "  </tbody>\n",
       "</table>\n",
       "</div>"
      ],
      "text/plain": [
       "              carteira 1 carteira 2 carteira 3 carteira 4    ibov  BOVA11  \\\n",
       "retorno total     255.1%     279.0%     181.3%     239.0%  164.7%  160.8%   \n",
       "volatilidade       18.5%      18.5%      26.3%      19.7%   26.7%   27.0%   \n",
       "\n",
       "               SMAL11  IVVB11  \n",
       "retorno total  193.3%  311.1%  \n",
       "volatilidade    27.6%   21.7%  "
      ]
     },
     "execution_count": 23,
     "metadata": {},
     "output_type": "execute_result"
    }
   ],
   "source": [
    "resultados.applymap(lambda x:f'{x:.1%}')"
   ]
  },
  {
   "cell_type": "code",
   "execution_count": 31,
   "metadata": {
    "ExecuteTime": {
     "end_time": "2021-06-28T12:54:34.749023Z",
     "start_time": "2021-06-28T12:54:33.539930Z"
    }
   },
   "outputs": [
    {
     "data": {
      "text/plain": [
       "<AxesSubplot:>"
      ]
     },
     "execution_count": 31,
     "metadata": {},
     "output_type": "execute_result"
    },
    {
     "data": {
      "image/png": "[encoded data removed]",
      "text/plain": [
       "<Figure size 1224x576 with 2 Axes>"
      ]
     },
     "metadata": {
      "needs_background": "light"
     },
     "output_type": "display_data"
    }
   ],
   "source": [
    "plt.figure(figsize=(17,8))\n",
    "sns.heatmap(carteiras.corr(),annot = True)"
   ]
  },
  {
   "cell_type": "code",
   "execution_count": null,
   "metadata": {
    "ExecuteTime": {
     "end_time": "2021-06-28T12:50:15.760993Z",
     "start_time": "2021-06-28T12:50:15.750006Z"
    }
   },
   "outputs": [],
   "source": []
  },
  {
   "cell_type": "code",
   "execution_count": null,
   "metadata": {},
   "outputs": [],
   "source": []
  }
 ],
 "metadata": {
  "kernelspec": {
   "display_name": "Python 3",
   "language": "python",
   "name": "python3"
  },
  "language_info": {
   "codemirror_mode": {
    "name": "ipython",
    "version": 3
   },
   "file_extension": ".py",
   "mimetype": "text/x-python",
   "name": "python",
   "nbconvert_exporter": "python",
   "pygments_lexer": "ipython3",
   "version": "3.8.5"
  }
 },
 "nbformat": 4,
 "nbformat_minor": 4
}
